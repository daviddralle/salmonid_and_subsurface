{
  "cells": [
    {
      "cell_type": "markdown",
      "metadata": {
        "id": "view-in-github",
        "colab_type": "text"
      },
      "source": [
        "<a href=\"https://colab.research.google.com/github/daviddralle/salmonid_and_subsurface/blob/main/lpi_analysis_salmonid.ipynb\" target=\"_parent\"><img src=\"https://colab.research.google.com/assets/colab-badge.svg\" alt=\"Open In Colab\"/></a>"
      ]
    },
    {
      "cell_type": "markdown",
      "source": [
        "# Install, import, download data"
      ],
      "metadata": {
        "id": "dcN-B41A2Ff7"
      }
    },
    {
      "cell_type": "code",
      "execution_count": null,
      "metadata": {
        "id": "VlibXyJaIMmK",
        "colab": {
          "base_uri": "https://localhost:8080/"
        },
        "outputId": "cb671cbb-dbc9-4137-b0e6-a43718b02285"
      },
      "outputs": [
        {
          "output_type": "stream",
          "name": "stdout",
          "text": [
            "  Building wheel for daymetpy (setup.py) ... \u001b[?25l\u001b[?25hdone\n"
          ]
        }
      ],
      "source": [
        "!pip install -q daymetpy\n",
        "\n",
        "import sys\n",
        "import daymetpy\n",
        "import seaborn as sns\n",
        "import pandas as pd\n",
        "import seaborn as sns\n",
        "import matplotlib.pyplot as plt\n",
        "import matplotlib\n",
        "import numpy as np\n",
        "from scipy import misc \n",
        "import glob as glob\n",
        "import numpy as np\n",
        "from scipy.stats import binned_statistic\n",
        "import matplotlib\n",
        "import os, pkg_resources\n",
        "# get LPI data\n",
        "import requests\n",
        "def download_file(url):\n",
        "  fn = url.split('/')[-1]\n",
        "  r = requests.get(url, allow_redirects=True)\n",
        "  open(fn, 'wb').write(r.content)\n",
        "download_file('https://github.com/daviddralle/salmonid_and_subsurface/raw/main/data_files.zip')\n",
        "import zipfile\n",
        "with zipfile.ZipFile('./data_files.zip', 'r') as zip_ref:\n",
        "    zip_ref.extractall('./')\n",
        "master = pd.read_csv('./lpi_pts.csv',index_col=0)\n",
        "\n",
        "brans = (-123.622134, 39.662731)\n",
        "brans = daymetpy.daymet_timeseries(lon=brans[0], lat=brans[1], start_year=2001, end_year=2020)\n",
        "brans['month'] = brans.index.month\n",
        "annual = brans.groupby('month').mean()[['srad', 'dayl']]\n",
        "annual['total'] = annual.srad * annual.dayl / 1e6\n",
        "summer_daily_mean = annual.loc[annual.index.isin([6,7,8])].total.mean()"
      ]
    },
    {
      "cell_type": "markdown",
      "source": [
        "# Binning function (after Kirchner 2009)"
      ],
      "metadata": {
        "id": "JznmDeY72LKJ"
      }
    },
    {
      "cell_type": "code",
      "execution_count": null,
      "metadata": {
        "id": "cIBLPXnuW-xh"
      },
      "outputs": [],
      "source": [
        "def binning(df, min_per_bin):\n",
        "  df = df.sort_values('area',ascending=True)\n",
        "  logA = np.array(np.log(df.area))\n",
        "  logRange = np.max(logA) - np.min(logA)\n",
        "  minBinSize = logRange*.01\n",
        "  binBoundaries = [0]\n",
        "  for i in range(1,len(df)):    \n",
        "    if abs(logA[i] - logA[binBoundaries[-1]]) < minBinSize: \n",
        "      continue  \n",
        "    if abs(i-binBoundaries[-1]) < min_per_bin:\n",
        "      continue\n",
        "    curr = df.lpi[binBoundaries[-1]:i]\n",
        "    if np.std(curr)/np.sqrt(abs(i-binBoundaries[-1])) > np.mean(curr)/2: \n",
        "      continue    \n",
        "    binBoundaries.append(i)\n",
        "  return binBoundaries"
      ]
    },
    {
      "cell_type": "markdown",
      "source": [
        "# Incident shortwave = f(contributing area, geology)"
      ],
      "metadata": {
        "id": "Qhf5KBIJ2aGI"
      }
    },
    {
      "cell_type": "code",
      "execution_count": null,
      "metadata": {
        "colab": {
          "base_uri": "https://localhost:8080/",
          "height": 261
        },
        "id": "6k6OwxIIXESO",
        "outputId": "7e26f45e-8b96-4452-8c79-68eeab5f9b30"
      },
      "outputs": [
        {
          "output_type": "display_data",
          "data": {
            "text/plain": [
              "<Figure size 504x252 with 1 Axes>"
            ],
            "image/png": "[encoded data removed]"
          },
          "metadata": {
            "needs_background": "light"
          }
        }
      ],
      "source": [
        "cmap = matplotlib.cm.get_cmap('coolwarm')\n",
        "\n",
        "df = master.loc[(master.lpi<1)&(master.lpi>0.001)]\n",
        "df = df.loc[df['area']<2*10**9]\n",
        "f, ax = plt.subplots(figsize=(7,3.5))\n",
        "cmap = matplotlib.cm.get_cmap('coolwarm')\n",
        "\n",
        "# Plot coastal belt light\n",
        "c = cmap(0.1)\n",
        "temp = df.loc[df.geo==1].sort_values('area')\n",
        "binBoundaries = binning(temp,min_per_bin=300)\n",
        "x = np.array(temp['area'].values)/1e6\n",
        "y = np.array(temp['lpi'].values)\n",
        "xs = np.array([np.mean(x[binBoundaries[i]:binBoundaries[i+1]]) for i in range(len(binBoundaries)-1)])\n",
        "ys = np.array([np.mean(y[binBoundaries[i]:binBoundaries[i+1]]) for i in range(len(binBoundaries)-1)])\n",
        "sigmas = np.array([np.std(np.log(y[binBoundaries[i]:binBoundaries[i+1]]))/np.sqrt(binBoundaries[i+1]-binBoundaries[i]) for i in range(len(binBoundaries)-1)]) + 1e-12\n",
        "sds = np.array([np.std(np.log(y[binBoundaries[i]:binBoundaries[i+1]])) for i in range(len(binBoundaries)-1)]) + 1e-12\n",
        "ax.scatter(xs,summer_daily_mean*ys,ec='k',s=40,color=c, label='Coastal',zorder=9)\n",
        "ax.errorbar(xs,summer_daily_mean*ys,yerr=sds,color=c,ls='none')\n",
        "p = np.polyfit(x=np.log(xs), y=np.log(ys), deg=1, w=1/sigmas**2)\n",
        "xsfit = np.logspace(np.log10(np.min(xs)), np.log10(np.max(xs)))\n",
        "if len(p)>2:\n",
        "  ysfit = np.exp(p[2] + p[1]*np.log(xsfit) + p[0]*np.log(xsfit)**2)\n",
        "else:\n",
        "  ysfit = np.exp(p[1] + p[0]*np.log(xsfit))\n",
        "rad = ysfit*summer_daily_mean\n",
        "ax.plot(xsfit, rad,lw=2,c=c)\n",
        "\n",
        "# Plot melange geology\n",
        "c = cmap(0.9)\n",
        "temp = df.loc[df.geo==2].sort_values('area')\n",
        "binBoundaries = binning(temp,min_per_bin=300)\n",
        "x = np.array(temp['area'].values)/1e6\n",
        "y = np.array(temp['lpi'].values)\n",
        "xs = np.array([np.mean(x[binBoundaries[i]:binBoundaries[i+1]]) for i in range(len(binBoundaries)-1)])\n",
        "ys = np.array([np.mean(y[binBoundaries[i]:binBoundaries[i+1]]) for i in range(len(binBoundaries)-1)])\n",
        "sigmas = np.array([np.std(np.log(y[binBoundaries[i]:binBoundaries[i+1]]))/np.sqrt(binBoundaries[i+1]-binBoundaries[i]) for i in range(len(binBoundaries)-1)]) + 1e-12\n",
        "sds = np.array([np.std(np.log(y[binBoundaries[i]:binBoundaries[i+1]])) for i in range(len(binBoundaries)-1)]) + 1e-12\n",
        "ax.scatter(xs,summer_daily_mean*ys,ec='k',s=40,color=c, label='Melange',zorder=20)\n",
        "ax.errorbar(xs,summer_daily_mean*ys,yerr=sds,color=c,ls='none')\n",
        "p = np.polyfit(x=np.log(xs), y=np.log(ys), deg=1, w=1/sigmas**2)\n",
        "xsfit = np.logspace(np.log10(np.min(xs)), np.log10(np.max(xs)))\n",
        "if len(p)>2:\n",
        "  ysfit = np.exp(p[2] + p[1]*np.log(xsfit) + p[0]*np.log(xsfit)**2)\n",
        "else:\n",
        "  ysfit = np.exp(p[1] + p[0]*np.log(xsfit))\n",
        "rad = ysfit*summer_daily_mean\n",
        "ax.plot(xsfit, rad,lw=2,c=c)\n",
        "\n",
        "ax.set_xscale('log')\n",
        "ax.set_ylabel('Average daily shortwave \\nincident' + r' on channel [MJ m$^{-2}$]')\n",
        "ax.set_ylim([0,15])\n",
        "ax.set_xlabel(r'Contributing area (km$^2$)')\n",
        "ax.xaxis.set_major_formatter(matplotlib.ticker.FormatStrFormatter(\"%.0f\"))\n",
        "sns.despine(right=True, top=True)\n",
        "f.tight_layout()\n",
        "f.savefig('./lpi.pdf')"
      ]
    },
    {
      "cell_type": "code",
      "source": [],
      "metadata": {
        "id": "CLna2J8pmMNI"
      },
      "execution_count": null,
      "outputs": []
    }
  ],
  "metadata": {
    "colab": {
      "provenance": [],
      "authorship_tag": "ABX9TyPa4E/sLh8aJ8T5DfgNn0J4",
      "include_colab_link": true
    },
    "kernelspec": {
      "display_name": "Python 3",
      "language": "python",
      "name": "python3"
    },
    "language_info": {
      "codemirror_mode": {
        "name": "ipython",
        "version": 3
      },
      "file_extension": ".py",
      "mimetype": "text/x-python",
      "name": "python",
      "nbconvert_exporter": "python",
      "pygments_lexer": "ipython3",
      "version": "3.7.4"
    }
  },
  "nbformat": 4,
  "nbformat_minor": 0
}